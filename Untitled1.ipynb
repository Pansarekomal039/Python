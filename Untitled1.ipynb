{
 "cells": [
  {
   "cell_type": "code",
   "execution_count": 11,
   "id": "87a69e4e-44a1-495b-891c-28b7d6fb61aa",
   "metadata": {},
   "outputs": [
    {
     "name": "stdout",
     "output_type": "stream",
     "text": [
      "Choose Character set for password from these:\n",
      "1:ADDITION\n",
      "2:SUBSTRACTION\n",
      "3:MULTIPLICATION\n",
      "4:DIVISION\n",
      "5:MODULE\n"
     ]
    },
    {
     "name": "stdin",
     "output_type": "stream",
     "text": [
      "ENTER YOUR CHOICE 1\n",
      "Enter first number: 11\n",
      "Enter second number: 11\n"
     ]
    },
    {
     "name": "stdout",
     "output_type": "stream",
     "text": [
      "Addition of numbers is: 22\n"
     ]
    },
    {
     "name": "stdin",
     "output_type": "stream",
     "text": [
      "ENTER YOUR CHOICE 2\n",
      "Enter first number: 456\n",
      "Enter second number: 222\n"
     ]
    },
    {
     "name": "stdout",
     "output_type": "stream",
     "text": [
      "Substraction of numbers is: 234\n"
     ]
    },
    {
     "name": "stdin",
     "output_type": "stream",
     "text": [
      "ENTER YOUR CHOICE 3\n",
      "Enter first number: 333333\n",
      "Enter second number: 333333333\n"
     ]
    },
    {
     "name": "stdout",
     "output_type": "stream",
     "text": [
      "Multiplication of numbers is: 111110999888889\n"
     ]
    },
    {
     "name": "stdin",
     "output_type": "stream",
     "text": [
      "ENTER YOUR CHOICE 4\n",
      "Enter first number: 8577346764\n",
      "Enter second number: 217684676736\n"
     ]
    },
    {
     "name": "stdout",
     "output_type": "stream",
     "text": [
      "Division of numbers is: 0.039402620766009595\n"
     ]
    },
    {
     "name": "stdin",
     "output_type": "stream",
     "text": [
      "ENTER YOUR CHOICE 5\n",
      "Enter first number: 34535634\n",
      "Enter second number: 26456382\n"
     ]
    },
    {
     "name": "stdout",
     "output_type": "stream",
     "text": [
      "Modulo of numbers is: 8079252\n"
     ]
    },
    {
     "name": "stdin",
     "output_type": "stream",
     "text": [
      "ENTER YOUR CHOICE 6\n",
      "Enter first number: 6\n",
      "Enter second number: 6\n"
     ]
    },
    {
     "name": "stdout",
     "output_type": "stream",
     "text": [
      "Plz check a valid option\n"
     ]
    }
   ],
   "source": [
    "print('''Choose Character set for password from these:\n",
    "1:ADDITION\n",
    "2:SUBSTRACTION\n",
    "3:MULTIPLICATION\n",
    "4:DIVISION\n",
    "5:MODULE''')\n",
    "RESULT=\" \"\n",
    "while(True):\n",
    "    choice=int(input(\"ENTER YOUR CHOICE\"))\n",
    "    num1 = int(input(\"Enter first number:\"))\n",
    "    num2 = int(input(\"Enter second number:\"))\n",
    "    if(choice==1): \n",
    "        print(\"Addition of numbers is:\",num1+num2)\n",
    "    elif(choice==2): \n",
    "        print(\"Substraction of numbers is:\",num1-num2)    \n",
    "    elif(choice==3): \n",
    "        print(\"Multiplication of numbers is:\",num1*num2)  \n",
    "    elif(choice==4): \n",
    "        print(\"Division of numbers is:\",num1/num2)\n",
    "    elif(choice==5): \n",
    "        print(\"Modulo of numbers is:\",num1%num2)    \n",
    "    else:\n",
    "        print(\"Plz check a valid option\")\n",
    "        break\n"
   ]
  }
 ],
 "metadata": {
  "kernelspec": {
   "display_name": "Python 3 (ipykernel)",
   "language": "python",
   "name": "python3"
  },
  "language_info": {
   "codemirror_mode": {
    "name": "ipython",
    "version": 3
   },
   "file_extension": ".py",
   "mimetype": "text/x-python",
   "name": "python",
   "nbconvert_exporter": "python",
   "pygments_lexer": "ipython3",
   "version": "3.12.0"
  }
 },
 "nbformat": 4,
 "nbformat_minor": 5
}
