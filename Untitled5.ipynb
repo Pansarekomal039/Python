{
 "cells": [
  {
   "cell_type": "code",
   "execution_count": 1,
   "id": "0c6dc0e0-b0af-4172-9156-7e74392fc3c1",
   "metadata": {},
   "outputs": [
    {
     "ename": "ModuleNotFoundError",
     "evalue": "No module named 'turtule'",
     "output_type": "error",
     "traceback": [
      "\u001b[1;31m---------------------------------------------------------------------------\u001b[0m",
      "\u001b[1;31mModuleNotFoundError\u001b[0m                       Traceback (most recent call last)",
      "Cell \u001b[1;32mIn[1], line 1\u001b[0m\n\u001b[1;32m----> 1\u001b[0m \u001b[38;5;28;01mimport\u001b[39;00m \u001b[38;5;21;01mturtule\u001b[39;00m \u001b[38;5;28;01mas\u001b[39;00m \u001b[38;5;21;01mt\u001b[39;00m\n\u001b[0;32m      2\u001b[0m t\u001b[38;5;241m.\u001b[39mbgcolor(\u001b[38;5;124m\"\u001b[39m\u001b[38;5;124mblack\u001b[39m\u001b[38;5;124m\"\u001b[39m)\n\u001b[0;32m      3\u001b[0m t\u001b[38;5;241m.\u001b[39mtracer(\u001b[38;5;241m100\u001b[39m)\n",
      "\u001b[1;31mModuleNotFoundError\u001b[0m: No module named 'turtule'"
     ]
    }
   ],
   "source": [
    "import turtule as t\n",
    "t.bgcolor(\"black\")\n",
    "t.tracer(100)\n",
    "t.pensize(2)\n",
    "h=3.5\n",
    "col=['indigo','golden','pink','red','orange']\n",
    "for i in rnge(250):\n",
    "    h=0.0049\n",
    "    t.pencolor(col[i%5])\n",
    "    t.begin_fill()\n",
    "    t.fd(i)\n",
    "    t.lt(700)\n",
    "    t.circle(50)\n",
    "    for j in range(2):\n",
    "        t.fd(i*j)\n",
    "        t.rt(109)\n",
    "        t.end_fill()\n",
    "    "
   ]
  }
 ],
 "metadata": {
  "kernelspec": {
   "display_name": "Python 3 (ipykernel)",
   "language": "python",
   "name": "python3"
  },
  "language_info": {
   "codemirror_mode": {
    "name": "ipython",
    "version": 3
   },
   "file_extension": ".py",
   "mimetype": "text/x-python",
   "name": "python",
   "nbconvert_exporter": "python",
   "pygments_lexer": "ipython3",
   "version": "3.12.0"
  }
 },
 "nbformat": 4,
 "nbformat_minor": 5
}
