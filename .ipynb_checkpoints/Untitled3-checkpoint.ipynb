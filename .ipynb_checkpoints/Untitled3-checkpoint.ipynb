{
 "cells": [
  {
   "cell_type": "code",
   "execution_count": null,
   "id": "d0a2e3f6-da68-4208-8099-c4d7e5024d0f",
   "metadata": {},
   "outputs": [
    {
     "name": "stdin",
     "output_type": "stream",
     "text": [
      "Enter password length: 10\n"
     ]
    },
    {
     "name": "stdout",
     "output_type": "stream",
     "text": [
      "Choose Character set for password from these:\n",
      "1:Digits\n",
      "2:Letters\n",
      "3:Special character\n",
      "4:Exit\n"
     ]
    },
    {
     "name": "stdin",
     "output_type": "stream",
     "text": [
      "Pick a number 1\n",
      "Enter password length: 1\n",
      "Pick a number 2\n",
      "Pick a number 1\n",
      "Enter password length: 22222222\n"
     ]
    }
   ],
   "source": [
    "import string \n",
    "import random\n",
    "length=int(input(\"Enter password length:\"))\n",
    "print('''Choose Character set for password from these:\n",
    "1:Digits\n",
    "2:Letters\n",
    "3:Special character\n",
    "4:Exit''')\n",
    "characterList=\" \"\n",
    "while(True):\n",
    "    choice=int(input(\"Pick a number\"))\n",
    "    if(choice==1):\n",
    "        characterList += string.ascii_letters\n",
    "        int(input(\"Enter password length:\"))\n",
    "    elif(choice==2):\n",
    "                characterList += string.digits\n",
    "        int(input(\"Enter password length:\"))\n",
    "    elif(choice==3):\n",
    "                characterList += string.punctuation\n",
    "int(input(\"Enter password length:\"))\n",
    "    elif(choice==4):\n",
    "        break\n",
    "    else:\n",
    "        print(\"Plz check a valid option\")\n",
    "        password=[]\n",
    "        for i in range(length):\n",
    "            randomchar=random.choice(characterList)\n",
    "            password.append(randomchar)\n",
    "            print(\"The random password is\"+\"\".join(password))\n",
    "        \n",
    "    "
   ]
  }
 ],
 "metadata": {
  "kernelspec": {
   "display_name": "Python 3 (ipykernel)",
   "language": "python",
   "name": "python3"
  },
  "language_info": {
   "codemirror_mode": {
    "name": "ipython",
    "version": 3
   },
   "file_extension": ".py",
   "mimetype": "text/x-python",
   "name": "python",
   "nbconvert_exporter": "python",
   "pygments_lexer": "ipython3",
   "version": "3.12.0"
  }
 },
 "nbformat": 4,
 "nbformat_minor": 5
}
