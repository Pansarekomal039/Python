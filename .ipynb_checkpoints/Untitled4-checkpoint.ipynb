{
 "cells": [
  {
   "cell_type": "code",
   "execution_count": null,
   "id": "901a7f73-1792-46f6-a827-41f6c4299a47",
   "metadata": {},
   "outputs": [],
   "source": [
    "import random\n",
    "while True:\n",
    "    user_input = input(\"Enter your choice(rock,paper,scissors):\")\n",
    "    possible_actions =[\"rock\",\"paper\",\"scissors\"]\n",
    "    computer_action = random.choice(possible_actions)\n",
    "    if User_input == computer_action:\n",
    "       print(\"Both player selected.It's atie!\")\n",
    "    elif user_input==\"rock\":\n",
    "        if computer_action==\"scissors\":\n",
    "           print(\"Rock smashes  scissors! you win!\")\n",
    "        else:\n",
    "           print(\"paper covers rock! you loose!\")\n",
    "    elif user_input==\"paper\":\n",
    "        if computer_action==\"rock\":\n",
    "           print(\"paper covers rock! you win!\")\n",
    "        else:\n",
    "           print(\"Scissors cuts paper! you loose!\")\n",
    "    elif user_input==\"scissors\":\n",
    "        if computer_action==\"paper\":\n",
    "           print(\"scissors cut paper! you win!\")\n",
    "        else:\n",
    "           print(\"rock smashes scissors! you loose!\")\n",
    "\n",
    "    "
   ]
  }
 ],
 "metadata": {
  "kernelspec": {
   "display_name": "Python 3 (ipykernel)",
   "language": "python",
   "name": "python3"
  },
  "language_info": {
   "codemirror_mode": {
    "name": "ipython",
    "version": 3
   },
   "file_extension": ".py",
   "mimetype": "text/x-python",
   "name": "python",
   "nbconvert_exporter": "python",
   "pygments_lexer": "ipython3",
   "version": "3.12.0"
  }
 },
 "nbformat": 4,
 "nbformat_minor": 5
}
