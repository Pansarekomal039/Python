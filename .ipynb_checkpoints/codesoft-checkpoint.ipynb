{
 "cells": [
  {
   "cell_type": "code",
   "execution_count": 3,
   "id": "c57ca7e8-5c2f-4448-9ddb-6619deaa8c52",
   "metadata": {},
   "outputs": [
    {
     "name": "stdin",
     "output_type": "stream",
     "text": [
      "Enter password length: 12\n"
     ]
    },
    {
     "name": "stdout",
     "output_type": "stream",
     "text": [
      "Choose Character set for password from these:\n",
      "1:DIGITS\n",
      "2:LETTERS\n",
      "3:SPECIAL \n"
     ]
    },
    {
     "name": "stdin",
     "output_type": "stream",
     "text": [
      "Pick a number 1\n",
      "Enter the password : 039\n",
      "Pick a number 2\n",
      "Enter the  password : Komal\n",
      "Pick a number 3\n",
      "Enter the password : @\n"
     ]
    },
    {
     "name": "stdout",
     "output_type": "stream",
     "text": [
      "The random password is:\n",
      "-\n",
      "4\n",
      "9\n",
      "A\n",
      "W\n",
      "y\n",
      "d\n",
      "D\n",
      "G\n",
      "m\n",
      "T\n",
      "?\n"
     ]
    },
    {
     "name": "stdin",
     "output_type": "stream",
     "text": [
      "Pick a number 4\n"
     ]
    },
    {
     "name": "stdout",
     "output_type": "stream",
     "text": [
      "Plz check a valid option\n"
     ]
    }
   ],
   "source": [
    "import string \n",
    "import random\n",
    "length=int(input(\"Enter password length:\"))\n",
    "LETTERS = ['A','B','C','D','E','F','G','H','I','J','K','L','M','N','O','P','Q','R','S','T','U','V','W','X','Y','Z','a','b','c','d','e','f','g','h','i','j','k','l','m','n','o','p','q','r','s','t','u','v','w','x','y','z']\n",
    "DIGITS = ['1','2','3','4','5','6','7','8','9','0']\n",
    "SPECIAL=['~','!','@','#','$','%','^','&','*','(',')''_','+','<','>','?',':','=','|','/','-']\n",
    "print('''Choose Character set for password from these:\n",
    "1:DIGITS\n",
    "2:LETTERS\n",
    "3:SPECIAL ''')\n",
    "COMBINED_LIST=\" \"\n",
    "while(True):\n",
    "    choice=int(input(\"Pick a number\"))\n",
    "    if(choice==1):\n",
    "        COMBINED_LIST += string.ascii_letters\n",
    "        int(input(\"Enter the password :\"))\n",
    "    elif(choice==2):\n",
    "        COMBINED_LIST += string.digits\n",
    "        str(input(\"Enter the  password :\"))\n",
    "    elif(choice==3):\n",
    "        COMBINED_LIST += string.punctuation\n",
    "        str(input(\"Enter the password :\"))\n",
    "        COMBINED_LIST = DIGITS+LETTERS+SPECIAL\n",
    "        print(\"The random password is:\")\n",
    "\n",
    "        password=[]\n",
    "        for i in range(length):\n",
    "            password=random.choice(COMBINED_LIST)\n",
    "            print(\"The random password is:\".join(password))\n",
    "    else:\n",
    "         print(\"Plz check a valid option\")\n",
    "         break\n",
    "\n",
    "        \n",
    "    "
   ]
  },
  {
   "cell_type": "code",
   "execution_count": 6,
   "id": "2d8b3c2a-3f3b-40a3-8bee-58fab24119eb",
   "metadata": {},
   "outputs": [
    {
     "name": "stdout",
     "output_type": "stream",
     "text": [
      "Choose Character set for password from these:\n",
      "1:ADDITION\n",
      "2:SUBSTRACTION\n",
      "3:MULTIPLICATION\n",
      "4:DIVISION\n",
      "5:MODULE\n"
     ]
    },
    {
     "name": "stdin",
     "output_type": "stream",
     "text": [
      "ENTER YOUR CHOICE 1\n",
      "Enter first number: 34765\n",
      "Enter second number: 3765748\n"
     ]
    },
    {
     "name": "stdout",
     "output_type": "stream",
     "text": [
      "Addition of numbers is: 3800513\n"
     ]
    },
    {
     "name": "stdin",
     "output_type": "stream",
     "text": [
      "ENTER YOUR CHOICE 2\n",
      "Enter first number: 86538976\n",
      "Enter second number: 27644567\n"
     ]
    },
    {
     "name": "stdout",
     "output_type": "stream",
     "text": [
      "Substraction of numbers is: 58894409\n"
     ]
    },
    {
     "name": "stdin",
     "output_type": "stream",
     "text": [
      "ENTER YOUR CHOICE 3\n",
      "Enter first number: 876367\n",
      "Enter second number: 485657\n"
     ]
    },
    {
     "name": "stdout",
     "output_type": "stream",
     "text": [
      "Multiplication of numbers is: 425613768119\n"
     ]
    },
    {
     "name": "stdin",
     "output_type": "stream",
     "text": [
      "ENTER YOUR CHOICE 4\n",
      "Enter first number: 36587465\n",
      "Enter second number: 9787886\n"
     ]
    },
    {
     "name": "stdout",
     "output_type": "stream",
     "text": [
      "Division of numbers is: 3.7380354654723194\n"
     ]
    },
    {
     "name": "stdin",
     "output_type": "stream",
     "text": [
      "ENTER YOUR CHOICE 5\n",
      "Enter first number: 9878645\n",
      "Enter second number: 678\n"
     ]
    },
    {
     "name": "stdout",
     "output_type": "stream",
     "text": [
      "Modulo of numbers is: 185\n"
     ]
    },
    {
     "name": "stdin",
     "output_type": "stream",
     "text": [
      "ENTER YOUR CHOICE 6\n",
      "Enter first number: 8745\n",
      "Enter second number: 0984736\n"
     ]
    },
    {
     "name": "stdout",
     "output_type": "stream",
     "text": [
      "Plz check a valid option\n"
     ]
    }
   ],
   "source": [
    "print('''Choose Character set for password from these:\n",
    "1:ADDITION\n",
    "2:SUBSTRACTION\n",
    "3:MULTIPLICATION\n",
    "4:DIVISION\n",
    "5:MODULE''')\n",
    "RESULT=\" \"\n",
    "while(True):\n",
    "    choice=int(input(\"ENTER YOUR CHOICE\"))\n",
    "    num1 = int(input(\"Enter first number:\"))\n",
    "    num2 = int(input(\"Enter second number:\"))\n",
    "    if(choice==1): \n",
    "        print(\"Addition of numbers is:\",num1+num2)\n",
    "    elif(choice==2): \n",
    "        print(\"Substraction of numbers is:\",num1-num2)    \n",
    "    elif(choice==3): \n",
    "        print(\"Multiplication of numbers is:\",num1*num2)  \n",
    "    elif(choice==4): \n",
    "        print(\"Division of numbers is:\",num1/num2)\n",
    "    elif(choice==5): \n",
    "        print(\"Modulo of numbers is:\",num1%num2)    \n",
    "    else:\n",
    "        print(\"Plz check a valid option\")\n",
    "        break\n"
   ]
  },
  {
   "cell_type": "code",
   "execution_count": null,
   "id": "e5ed5564-c5c0-45ba-8deb-f3cbda07f15e",
   "metadata": {},
   "outputs": [],
   "source": []
  },
  {
   "cell_type": "code",
   "execution_count": null,
   "id": "faaaeba3-2ca1-4997-9683-6e16e156c29d",
   "metadata": {},
   "outputs": [],
   "source": []
  }
 ],
 "metadata": {
  "kernelspec": {
   "display_name": "Python 3 (ipykernel)",
   "language": "python",
   "name": "python3"
  },
  "language_info": {
   "codemirror_mode": {
    "name": "ipython",
    "version": 3
   },
   "file_extension": ".py",
   "mimetype": "text/x-python",
   "name": "python",
   "nbconvert_exporter": "python",
   "pygments_lexer": "ipython3",
   "version": "3.12.0"
  }
 },
 "nbformat": 4,
 "nbformat_minor": 5
}
