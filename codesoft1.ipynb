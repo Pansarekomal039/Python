{
 "cells": [
  {
   "cell_type": "code",
   "execution_count": 7,
   "id": "d709cbf4-724b-4a18-b0fe-036b04f0a2da",
   "metadata": {},
   "outputs": [
    {
     "name": "stdin",
     "output_type": "stream",
     "text": [
      "Enter password length: 12\n"
     ]
    },
    {
     "name": "stdout",
     "output_type": "stream",
     "text": [
      "Choose Character set for password from these:\n",
      "1:DIGITS\n",
      "2:LETTERS\n",
      "3:SPECIAL \n",
      "4:END\n"
     ]
    },
    {
     "name": "stdin",
     "output_type": "stream",
     "text": [
      "Pick a number 1\n",
      "Enter the password : 123\n",
      "Pick a number 2\n",
      "Enter the  password : Komal\n",
      "Pick a number 3\n",
      "Enter the password : @\n"
     ]
    },
    {
     "name": "stdout",
     "output_type": "stream",
     "text": [
      "The random password is:\n",
      "K\n",
      "~\n",
      "o\n",
      "D\n",
      "5\n",
      "/\n",
      "<\n",
      "v\n",
      "=\n",
      "f\n",
      "-\n",
      "^\n"
     ]
    },
    {
     "name": "stdin",
     "output_type": "stream",
     "text": [
      "Pick a number 4\n"
     ]
    },
    {
     "name": "stdout",
     "output_type": "stream",
     "text": [
      "Plz check a valid option\n"
     ]
    }
   ],
   "source": [
    "import string \n",
    "import random\n",
    "length=int(input(\"Enter password length:\"))\n",
    "LETTERS = ['A','B','C','D','E','F','G','H','I','J','K','L','M','N','O','P','Q','R','S','T','U','V','W','X','Y','Z','a','b','c','d','e','f','g','h','i','j','k','l','m','n','o','p','q','r','s','t','u','v','w','x','y','z']\n",
    "DIGITS = ['1','2','3','4','5','6','7','8','9','0']\n",
    "SPECIAL=['~','!','@','#','$','%','^','&','*','(',')''_','+','<','>','?',':','=','|','/','-']\n",
    "print('''Choose Character set for password from these:\n",
    "1:DIGITS\n",
    "2:LETTERS\n",
    "3:SPECIAL \n",
    "4:END''')\n",
    "COMBINED_LIST=\" \"\n",
    "while(True):\n",
    "    choice=int(input(\"Pick a number\"))\n",
    "    if(choice==1):\n",
    "        COMBINED_LIST += string.ascii_letters\n",
    "        int(input(\"Enter the password :\"))\n",
    "    elif(choice==2):\n",
    "        COMBINED_LIST += string.digits\n",
    "        str(input(\"Enter the  password :\"))\n",
    "    elif(choice==3):\n",
    "        COMBINED_LIST += string.punctuation\n",
    "        str(input(\"Enter the password :\"))\n",
    "        COMBINED_LIST = DIGITS+LETTERS+SPECIAL\n",
    "        print(\"The random password is:\")\n",
    "\n",
    "        password=[]\n",
    "        for i in range(length):\n",
    "            password=random.choice(COMBINED_LIST)\n",
    "            print(\"The random password is:\".join(password))\n",
    "    else:\n",
    "         print(\"Plz check a valid option\")\n",
    "         break"
   ]
  },
  {
   "cell_type": "code",
   "execution_count": 6,
   "id": "2b401d1b-3425-4c75-bae9-40c2d3ec3481",
   "metadata": {},
   "outputs": [
    {
     "name": "stdout",
     "output_type": "stream",
     "text": [
      "Choose Character set for password from these:\n",
      "1:ADDITION\n",
      "2:SUBSTRACTION\n",
      "3:MULTIPLICATION\n",
      "4:DIVISION\n",
      "5:MODULE\n"
     ]
    },
    {
     "name": "stdin",
     "output_type": "stream",
     "text": [
      "ENTER YOUR CHOICE 1\n",
      "Enter first number: 1234\n",
      "Enter second number: 2211\n"
     ]
    },
    {
     "name": "stdout",
     "output_type": "stream",
     "text": [
      "Addition of numbers is: 3445\n"
     ]
    },
    {
     "name": "stdin",
     "output_type": "stream",
     "text": [
      "ENTER YOUR CHOICE 2\n",
      "Enter first number: 12345\n",
      "Enter second number: 12345\n"
     ]
    },
    {
     "name": "stdout",
     "output_type": "stream",
     "text": [
      "Substraction of numbers is: 0\n"
     ]
    },
    {
     "name": "stdin",
     "output_type": "stream",
     "text": [
      "ENTER YOUR CHOICE 3\n",
      "Enter first number: 65786364\n",
      "Enter second number: 46363565365\n"
     ]
    },
    {
     "name": "stdout",
     "output_type": "stream",
     "text": [
      "Multiplication of numbers is: 3050090387439682860\n"
     ]
    },
    {
     "name": "stdin",
     "output_type": "stream",
     "text": [
      "ENTER YOUR CHOICE 4\n",
      "Enter first number: 9849765\n",
      "Enter second number: 976452\n"
     ]
    },
    {
     "name": "stdout",
     "output_type": "stream",
     "text": [
      "Division of numbers is: 10.087300758255399\n"
     ]
    },
    {
     "name": "stdin",
     "output_type": "stream",
     "text": [
      "ENTER YOUR CHOICE 5\n",
      "Enter first number: 987639876\n",
      "Enter second number: 986564632\n"
     ]
    },
    {
     "name": "stdout",
     "output_type": "stream",
     "text": [
      "Modulo of numbers is: 1075244\n"
     ]
    },
    {
     "name": "stdin",
     "output_type": "stream",
     "text": [
      "ENTER YOUR CHOICE 6\n",
      "Enter first number: 33\n",
      "Enter second number: 33\n"
     ]
    },
    {
     "name": "stdout",
     "output_type": "stream",
     "text": [
      "Plz check a valid option\n"
     ]
    }
   ],
   "source": [
    "print('''Choose Character set for password from these:\n",
    "1:ADDITION\n",
    "2:SUBSTRACTION\n",
    "3:MULTIPLICATION\n",
    "4:DIVISION\n",
    "5:MODULE''')\n",
    "RESULT=\" \"\n",
    "while(True):\n",
    "    choice=int(input(\"ENTER YOUR CHOICE\"))\n",
    "    num1 = int(input(\"Enter first number:\"))\n",
    "    num2 = int(input(\"Enter second number:\"))\n",
    "    if(choice==1): \n",
    "        print(\"Addition of numbers is:\",num1+num2)\n",
    "    elif(choice==2): \n",
    "        print(\"Substraction of numbers is:\",num1-num2)    \n",
    "    elif(choice==3): \n",
    "        print(\"Multiplication of numbers is:\",num1*num2)  \n",
    "    elif(choice==4): \n",
    "        print(\"Division of numbers is:\",num1/num2)\n",
    "    elif(choice==5): \n",
    "        print(\"Modulo of numbers is:\",num1%num2)    \n",
    "    else:\n",
    "        print(\"Plz check a valid option\")\n",
    "        break\n"
   ]
  },
  {
   "cell_type": "code",
   "execution_count": 6,
   "id": "90d59f77-d12c-441e-9bdd-aed7a077e6a1",
   "metadata": {},
   "outputs": [
    {
     "name": "stdin",
     "output_type": "stream",
     "text": [
      "Enter your choice(rock,paper,scissors,end): rock\n"
     ]
    },
    {
     "name": "stdout",
     "output_type": "stream",
     "text": [
      "Rock smashes  scissors! you win!\n"
     ]
    },
    {
     "name": "stdin",
     "output_type": "stream",
     "text": [
      "Enter your choice(rock,paper,scissors,end): paper\n"
     ]
    },
    {
     "name": "stdout",
     "output_type": "stream",
     "text": [
      "Scissors cuts paper! you loose!\n"
     ]
    },
    {
     "name": "stdin",
     "output_type": "stream",
     "text": [
      "Enter your choice(rock,paper,scissors,end): scissors\n"
     ]
    },
    {
     "name": "stdout",
     "output_type": "stream",
     "text": [
      "Both player selected.It's atie!\n"
     ]
    },
    {
     "name": "stdin",
     "output_type": "stream",
     "text": [
      "Enter your choice(rock,paper,scissors,end): rock\n"
     ]
    },
    {
     "name": "stdout",
     "output_type": "stream",
     "text": [
      "Both player selected.It's atie!\n"
     ]
    },
    {
     "name": "stdin",
     "output_type": "stream",
     "text": [
      "Enter your choice(rock,paper,scissors,end): rock\n"
     ]
    },
    {
     "name": "stdout",
     "output_type": "stream",
     "text": [
      "Rock smashes  scissors! you win!\n"
     ]
    },
    {
     "name": "stdin",
     "output_type": "stream",
     "text": [
      "Enter your choice(rock,paper,scissors,end): rock\n"
     ]
    },
    {
     "name": "stdout",
     "output_type": "stream",
     "text": [
      "paper covers rock! you loose!\n"
     ]
    },
    {
     "name": "stdin",
     "output_type": "stream",
     "text": [
      "Enter your choice(rock,paper,scissors,end): paper\n"
     ]
    },
    {
     "name": "stdout",
     "output_type": "stream",
     "text": [
      "Both player selected.It's atie!\n"
     ]
    },
    {
     "name": "stdin",
     "output_type": "stream",
     "text": [
      "Enter your choice(rock,paper,scissors,end): scissors\n"
     ]
    },
    {
     "name": "stdout",
     "output_type": "stream",
     "text": [
      "scissors cut paper! you win!\n"
     ]
    },
    {
     "name": "stdin",
     "output_type": "stream",
     "text": [
      "Enter your choice(rock,paper,scissors,end): end\n"
     ]
    },
    {
     "name": "stdout",
     "output_type": "stream",
     "text": [
      "Thanks for playing\n"
     ]
    }
   ],
   "source": [
    "import random\n",
    "while True:\n",
    "    user_input = input(\"Enter your choice(rock,paper,scissors,end):\")\n",
    "    possible_actions =[\"rock\",\"paper\",\"scissors\"]\n",
    "    computer_action = random.choice(possible_actions)\n",
    "    if user_input == computer_action:\n",
    "       print(\"Both player selected.It's atie!\")\n",
    "    elif user_input==\"rock\":\n",
    "        if computer_action==\"scissors\":\n",
    "           print(\"Rock smashes  scissors! you win!\")\n",
    "        else:\n",
    "           print(\"paper covers rock! you loose!\")\n",
    "    elif user_input==\"paper\":\n",
    "        if computer_action==\"rock\":\n",
    "           print(\"paper covers rock! you win!\")\n",
    "        else:\n",
    "           print(\"Scissors cuts paper! you loose!\")\n",
    "    elif user_input==\"scissors\":\n",
    "        if computer_action==\"paper\":\n",
    "           print(\"scissors cut paper! you win!\")\n",
    "        else:\n",
    "           print(\"rock smashes scissors! you loose!\")\n",
    "    else:\n",
    "        print(\"Thanks for playing\")\n",
    "        break\n",
    "    "
   ]
  },
  {
   "cell_type": "code",
   "execution_count": null,
   "id": "e35122de-6459-4aed-85bd-5fbdb0d69ced",
   "metadata": {},
   "outputs": [],
   "source": []
  },
  {
   "cell_type": "code",
   "execution_count": null,
   "id": "ef2d66c6-2f22-42d5-ae16-b82309fee3ff",
   "metadata": {},
   "outputs": [],
   "source": []
  }
 ],
 "metadata": {
  "kernelspec": {
   "display_name": "Python 3 (ipykernel)",
   "language": "python",
   "name": "python3"
  },
  "language_info": {
   "codemirror_mode": {
    "name": "ipython",
    "version": 3
   },
   "file_extension": ".py",
   "mimetype": "text/x-python",
   "name": "python",
   "nbconvert_exporter": "python",
   "pygments_lexer": "ipython3",
   "version": "3.12.0"
  }
 },
 "nbformat": 4,
 "nbformat_minor": 5
}
