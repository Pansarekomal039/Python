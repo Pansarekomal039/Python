{
 "cells": [
  {
   "cell_type": "code",
   "execution_count": 3,
   "id": "c57ca7e8-5c2f-4448-9ddb-6619deaa8c52",
   "metadata": {},
   "outputs": [
    {
     "name": "stdin",
     "output_type": "stream",
     "text": [
      "Enter password length: 12\n"
     ]
    },
    {
     "name": "stdout",
     "output_type": "stream",
     "text": [
      "Choose Character set for password from these:\n",
      "1:DIGITS\n",
      "2:LETTERS\n",
      "3:SPECIAL \n"
     ]
    },
    {
     "name": "stdin",
     "output_type": "stream",
     "text": [
      "Pick a number 1\n",
      "Enter the password : 039\n",
      "Pick a number 2\n",
      "Enter the  password : Komal\n",
      "Pick a number 3\n",
      "Enter the password : @\n"
     ]
    },
    {
     "name": "stdout",
     "output_type": "stream",
     "text": [
      "The random password is:\n",
      "-\n",
      "4\n",
      "9\n",
      "A\n",
      "W\n",
      "y\n",
      "d\n",
      "D\n",
      "G\n",
      "m\n",
      "T\n",
      "?\n"
     ]
    },
    {
     "name": "stdin",
     "output_type": "stream",
     "text": [
      "Pick a number 4\n"
     ]
    },
    {
     "name": "stdout",
     "output_type": "stream",
     "text": [
      "Plz check a valid option\n"
     ]
    }
   ],
   "source": [
    "import string \n",
    "import random\n",
    "length=int(input(\"Enter password length:\"))\n",
    "LETTERS = ['A','B','C','D','E','F','G','H','I','J','K','L','M','N','O','P','Q','R','S','T','U','V','W','X','Y','Z','a','b','c','d','e','f','g','h','i','j','k','l','m','n','o','p','q','r','s','t','u','v','w','x','y','z']\n",
    "DIGITS = ['1','2','3','4','5','6','7','8','9','0']\n",
    "SPECIAL=['~','!','@','#','$','%','^','&','*','(',')''_','+','<','>','?',':','=','|','/','-']\n",
    "print('''Choose Character set for password from these:\n",
    "1:DIGITS\n",
    "2:LETTERS\n",
    "3:SPECIAL ''')\n",
    "COMBINED_LIST=\" \"\n",
    "while(True):\n",
    "    choice=int(input(\"Pick a number\"))\n",
    "    if(choice==1):\n",
    "        COMBINED_LIST += string.ascii_letters\n",
    "        int(input(\"Enter the password :\"))\n",
    "    elif(choice==2):\n",
    "        COMBINED_LIST += string.digits\n",
    "        str(input(\"Enter the  password :\"))\n",
    "    elif(choice==3):\n",
    "        COMBINED_LIST += string.punctuation\n",
    "        str(input(\"Enter the password :\"))\n",
    "        COMBINED_LIST = DIGITS+LETTERS+SPECIAL\n",
    "        print(\"The random password is:\")\n",
    "\n",
    "        password=[]\n",
    "        for i in range(length):\n",
    "            password=random.choice(COMBINED_LIST)\n",
    "            print(\"The random password is:\".join(password))\n",
    "    else:\n",
    "         print(\"Plz check a valid option\")\n",
    "         break\n",
    "\n",
    "        \n",
    "    "
   ]
  },
  {
   "cell_type": "code",
   "execution_count": 6,
   "id": "2d8b3c2a-3f3b-40a3-8bee-58fab24119eb",
   "metadata": {},
   "outputs": [
    {
     "name": "stdout",
     "output_type": "stream",
     "text": [
      "Choose Character set for password from these:\n",
      "1:ADDITION\n",
      "2:SUBSTRACTION\n",
      "3:MULTIPLICATION\n",
      "4:DIVISION\n",
      "5:MODULE\n"
     ]
    },
    {
     "name": "stdin",
     "output_type": "stream",
     "text": [
      "ENTER YOUR CHOICE 1\n",
      "Enter first number: 123\n",
      "Enter second number: 212\n"
     ]
    },
    {
     "name": "stdout",
     "output_type": "stream",
     "text": [
      "Addition of numbers is: 335\n"
     ]
    },
    {
     "name": "stdin",
     "output_type": "stream",
     "text": [
      "ENTER YOUR CHOICE 2\n",
      "Enter first number: 234\n",
      "Enter second number: 3\n"
     ]
    },
    {
     "name": "stdout",
     "output_type": "stream",
     "text": [
      "Substraction of numbers is: 231\n"
     ]
    },
    {
     "name": "stdin",
     "output_type": "stream",
     "text": [
      "ENTER YOUR CHOICE 3\n",
      "Enter first number: 2223\n",
      "Enter second number: 456\n"
     ]
    },
    {
     "name": "stdout",
     "output_type": "stream",
     "text": [
      "Multiplication of numbers is: 1013688\n"
     ]
    },
    {
     "name": "stdin",
     "output_type": "stream",
     "text": [
      "ENTER YOUR CHOICE 4\n",
      "Enter first number: 3456\n",
      "Enter second number: 3356\n"
     ]
    },
    {
     "name": "stdout",
     "output_type": "stream",
     "text": [
      "Division of numbers is: 1.029797377830751\n"
     ]
    },
    {
     "name": "stdin",
     "output_type": "stream",
     "text": [
      "ENTER YOUR CHOICE 5\n",
      "Enter first number: 4567\n",
      "Enter second number: 2346\n"
     ]
    },
    {
     "name": "stdout",
     "output_type": "stream",
     "text": [
      "Modulo of numbers is: 2221\n"
     ]
    },
    {
     "name": "stdin",
     "output_type": "stream",
     "text": [
      "ENTER YOUR CHOICE 6\n",
      "Enter first number: 4\n",
      "Enter second number: 4\n"
     ]
    },
    {
     "name": "stdout",
     "output_type": "stream",
     "text": [
      "Plz check a valid option\n"
     ]
    }
   ],
   "source": [
    "print('''Choose Character set for password from these:\n",
    "1:ADDITION\n",
    "2:SUBSTRACTION\n",
    "3:MULTIPLICATION\n",
    "4:DIVISION\n",
    "5:MODULE''')\n",
    "RESULT=\" \"\n",
    "while(True):\n",
    "    choice=int(input(\"ENTER YOUR CHOICE\"))\n",
    "    num1 = int(input(\"Enter first number:\"))\n",
    "    num2 = int(input(\"Enter second number:\"))\n",
    "    if(choice==1): \n",
    "        print(\"Addition of numbers is:\",num1+num2)\n",
    "    elif(choice==2): \n",
    "        print(\"Substraction of numbers is:\",num1-num2)    \n",
    "    elif(choice==3): \n",
    "        print(\"Multiplication of numbers is:\",num1*num2)  \n",
    "    elif(choice==4): \n",
    "        print(\"Division of numbers is:\",num1/num2)\n",
    "    elif(choice==5): \n",
    "        print(\"Modulo of numbers is:\",num1%num2)    \n",
    "    else:\n",
    "        print(\"Plz check a valid option\")\n",
    "        break\n"
   ]
  },
  {
   "cell_type": "code",
   "execution_count": null,
   "id": "c2b5c823-15f2-4e14-9949-a02afc700223",
   "metadata": {},
   "outputs": [],
   "source": []
  },
  {
   "cell_type": "code",
   "execution_count": null,
   "id": "121dbfea-756a-4db3-b7ce-d3d10bcc1395",
   "metadata": {},
   "outputs": [],
   "source": []
  },
  {
   "cell_type": "code",
   "execution_count": null,
   "id": "58f6243d-90e5-4bc2-9c87-eb3124333acd",
   "metadata": {},
   "outputs": [],
   "source": []
  }
 ],
 "metadata": {
  "kernelspec": {
   "display_name": "Python 3 (ipykernel)",
   "language": "python",
   "name": "python3"
  },
  "language_info": {
   "codemirror_mode": {
    "name": "ipython",
    "version": 3
   },
   "file_extension": ".py",
   "mimetype": "text/x-python",
   "name": "python",
   "nbconvert_exporter": "python",
   "pygments_lexer": "ipython3",
   "version": "3.12.0"
  }
 },
 "nbformat": 4,
 "nbformat_minor": 5
}
